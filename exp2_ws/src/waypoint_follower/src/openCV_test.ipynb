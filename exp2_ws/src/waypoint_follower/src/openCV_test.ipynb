{
 "cells": [
  {
   "attachments": {},
   "cell_type": "markdown",
   "metadata": {},
   "source": [
    "Example Demos provided by [github.com/nickochnack/OpenCV-Basics](github.com/nickochnack/OpenCV-Basics)"
   ]
  },
  {
   "attachments": {},
   "cell_type": "markdown",
   "metadata": {},
   "source": [
    "### Import Dependencies"
   ]
  },
  {
   "cell_type": "code",
   "execution_count": 1,
   "metadata": {},
   "outputs": [],
   "source": [
    "import cv2\n",
    "import os\n",
    "from matplotlib import pyplot as plt"
   ]
  },
  {
   "attachments": {},
   "cell_type": "markdown",
   "metadata": {},
   "source": [
    "### Take a photo"
   ]
  },
  {
   "cell_type": "code",
   "execution_count": 3,
   "metadata": {},
   "outputs": [],
   "source": [
    "def take_photo(filename): \n",
    "    cap = cv2.VideoCapture(2)\n",
    "    ret, frame = cap.read()\n",
    "    plt.imshow(cv2.cvtColor(frame,cv2.COLOR_BGR2RGB))\n",
    "    key = cv2.waitKey(1)\n",
    "    if key == ord('s'):\n",
    "            cv2.imwrite('{0}.jpg'.format(filename), frame)\n",
    "            cap.release()\n",
    "    if key == ord('q'):\n",
    "          cap.release()"
   ]
  },
  {
   "cell_type": "code",
   "execution_count": null,
   "metadata": {},
   "outputs": [],
   "source": [
    "take_photo(\"test\")"
   ]
  },
  {
   "attachments": {},
   "cell_type": "markdown",
   "metadata": {},
   "source": [
    "### Take a Video"
   ]
  },
  {
   "cell_type": "code",
   "execution_count": 4,
   "metadata": {},
   "outputs": [],
   "source": [
    "def takeVideo():\n",
    "    # Connect to webcam\n",
    "    cap = cv2.VideoCapture(2)\n",
    "    # Loop through every frame until we close our webcam\n",
    "    while cap.isOpened(): \n",
    "        ret, frame = cap.read()\n",
    "        \n",
    "        # Show image \n",
    "        cv2.imshow('Webcam', frame)\n",
    "        \n",
    "        # Checks whether q has been hit and stops the loop\n",
    "        if cv2.waitKey(1) & 0xFF == ord('q'): \n",
    "            break\n",
    "\n",
    "    # Releases the webcam\n",
    "    cap.release()\n",
    "    # Closes the frame\n",
    "    cv2.destroyAllWindows()"
   ]
  },
  {
   "cell_type": "code",
   "execution_count": 10,
   "metadata": {},
   "outputs": [],
   "source": [
    "takeVideo()"
   ]
  },
  {
   "attachments": {},
   "cell_type": "markdown",
   "metadata": {},
   "source": [
    "### Edge Detection Demo"
   ]
  },
  {
   "cell_type": "code",
   "execution_count": 12,
   "metadata": {},
   "outputs": [],
   "source": [
    "def get_edges(): \n",
    "    cap = cv2.VideoCapture(2)\n",
    "    \n",
    "    while cap.isOpened(): \n",
    "        ret, frame = cap.read()\n",
    "        gray = cv2.cvtColor(frame,cv2.COLOR_BGR2GRAY)\n",
    "        blurred = cv2.GaussianBlur(frame, (3,3),0)\n",
    "        canny = cv2.Canny(gray, threshold1=180,threshold2=200)\n",
    "        # resized = cv2.resize(canny, (int(2190/2),int(2738/2)))\n",
    "        cv2.imshow(\"Canny\",canny)\n",
    "        # Checks whether q has been hit and stops the loop\n",
    "        if cv2.waitKey(1) & 0xFF == ord('q'): \n",
    "            break\n",
    "\n",
    "    # Releases the webcam\n",
    "    cap.release()\n",
    "    # Closes the frame\n",
    "    cv2.destroyAllWindows()"
   ]
  },
  {
   "cell_type": "code",
   "execution_count": 13,
   "metadata": {},
   "outputs": [],
   "source": [
    "get_edges()"
   ]
  }
 ],
 "metadata": {
  "kernelspec": {
   "display_name": "ROS544proj",
   "language": "python",
   "name": "python3"
  },
  "language_info": {
   "codemirror_mode": {
    "name": "ipython",
    "version": 3
   },
   "file_extension": ".py",
   "mimetype": "text/x-python",
   "name": "python",
   "nbconvert_exporter": "python",
   "pygments_lexer": "ipython3",
   "version": "3.8.10"
  },
  "orig_nbformat": 4
 },
 "nbformat": 4,
 "nbformat_minor": 2
}
