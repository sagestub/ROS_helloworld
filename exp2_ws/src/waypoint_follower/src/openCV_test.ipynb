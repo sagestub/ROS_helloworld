{
 "cells": [
  {
   "attachments": {},
   "cell_type": "markdown",
   "metadata": {},
   "source": [
    "Capture methods provided by [github.com/nickochnack/OpenCV-Basics](github.com/nickochnack/OpenCV-Basics)\n",
    "\n",
    "Calibration steps followed from [OpenCV: Camera Calibration](https://docs.opencv.org/4.x/dc/dbb/tutorial_py_calibration.html)\n"
   ]
  },
  {
   "attachments": {},
   "cell_type": "markdown",
   "metadata": {},
   "source": [
    "### Import Dependencies"
   ]
  },
  {
   "cell_type": "code",
   "execution_count": 141,
   "metadata": {},
   "outputs": [],
   "source": [
    "import cv2 as cv\n",
    "import os\n",
    "import pandas as pd\n",
    "import glob\n",
    "import numpy as np\n",
    "from matplotlib import pyplot as plt"
   ]
  },
  {
   "attachments": {},
   "cell_type": "markdown",
   "metadata": {},
   "source": [
    "### Take a photo"
   ]
  },
  {
   "cell_type": "code",
   "execution_count": 44,
   "metadata": {},
   "outputs": [],
   "source": [
    "def take_photo(filename,type=\"jpg\"):\n",
    "    cap = cv.VideoCapture(2)\n",
    "    cap.set(cv.CAP_PROP_AUTOFOCUS, 0)\n",
    "    ret, frame = cap.read()\n",
    "    color = cv.cvtColor(frame,cv.COLOR_BGR2RGB)\n",
    "    print(\"press 's' to save or 'q' to quit\")\n",
    "    while True:\n",
    "        cv.imshow('image capture',color)\n",
    "        key = cv.waitKey(20)\n",
    "        if key == ord('s'):\n",
    "                cv.imwrite('{0}.{1}'.format(filename,type), frame)\n",
    "                print(\"saved image to {0}.{1}\".format(filename,type))\n",
    "                break\n",
    "        if key == ord('q'):\n",
    "                break\n",
    "    cap.release()\n",
    "    cv.destroyAllWindows()"
   ]
  },
  {
   "cell_type": "code",
   "execution_count": 48,
   "metadata": {},
   "outputs": [
    {
     "name": "stdout",
     "output_type": "stream",
     "text": [
      "press 's' to save or 'q' to quit\n",
      "saved image to /home/sage/Pictures/test.jpg\n"
     ]
    }
   ],
   "source": [
    "take_photo(\"/home/sage/Pictures/test\")"
   ]
  },
  {
   "attachments": {},
   "cell_type": "markdown",
   "metadata": {},
   "source": [
    "### Take a Video"
   ]
  },
  {
   "cell_type": "code",
   "execution_count": 52,
   "metadata": {},
   "outputs": [],
   "source": [
    "def take_video():\n",
    "    # Connect to webcam\n",
    "    cap = cv.VideoCapture(2)\n",
    "    cap.set(cv.CAP_PROP_AUTOFOCUS, 0)\n",
    "    # Loop through every frame until we close our webcam\n",
    "    while cap.isOpened(): \n",
    "        ret, frame = cap.read()\n",
    "        \n",
    "        # Show image \n",
    "        cv.imshow('Webcam', frame)\n",
    "        \n",
    "        # Checks whether q has been hit and stops the loop\n",
    "        if cv.waitKey(1) & 0xFF == ord('q'): \n",
    "            break\n",
    "\n",
    "    # Releases the webcam\n",
    "    cap.release()\n",
    "    # Closes the frame\n",
    "    cv.destroyAllWindows()"
   ]
  },
  {
   "cell_type": "code",
   "execution_count": 55,
   "metadata": {},
   "outputs": [
    {
     "name": "stderr",
     "output_type": "stream",
     "text": [
      "[ WARN:0@2183.958] global cap_v4l.cpp:982 open VIDEOIO(V4L2:/dev/video2): can't open camera by index\n",
      "[ERROR:0@2183.961] global obsensor_uvc_stream_channel.cpp:156 getStreamChannelGroup Camera index out of range\n"
     ]
    }
   ],
   "source": [
    "take_video()"
   ]
  },
  {
   "attachments": {},
   "cell_type": "markdown",
   "metadata": {},
   "source": [
    "### Edge Detection Demo"
   ]
  },
  {
   "cell_type": "code",
   "execution_count": 7,
   "metadata": {},
   "outputs": [],
   "source": [
    "def get_edges(): \n",
    "    cap = cv.VideoCapture(2)\n",
    "    cap.set(cv.CAP_PROP_AUTOFOCUS, 0)\n",
    "    while cap.isOpened(): \n",
    "        ret, frame = cap.read()\n",
    "        gray = cv.cvtColor(frame,cv.COLOR_BGR2GRAY)\n",
    "        blurred = cv.GaussianBlur(frame, (3,3),0)\n",
    "        canny = cv.Canny(gray, threshold1=180,threshold2=200)\n",
    "        # resized = cv.resize(canny, (int(2190/2),int(2738/2)))\n",
    "        cv.imshow(\"Canny\",canny)\n",
    "        # Checks whether q has been hit and stops the loop\n",
    "        if cv.waitKey(1) & 0xFF == ord('q'): \n",
    "            break\n",
    "\n",
    "    # Releases the webcam\n",
    "    cap.release()\n",
    "    # Closes the frame\n",
    "    cv.destroyAllWindows()"
   ]
  },
  {
   "cell_type": "code",
   "execution_count": 8,
   "metadata": {},
   "outputs": [],
   "source": [
    "get_edges()"
   ]
  },
  {
   "attachments": {},
   "cell_type": "markdown",
   "metadata": {},
   "source": [
    "### Get Frame Data"
   ]
  },
  {
   "cell_type": "code",
   "execution_count": 23,
   "metadata": {},
   "outputs": [
    {
     "name": "stdout",
     "output_type": "stream",
     "text": [
      "640.0\n",
      "480.0\n",
      "30.0\n"
     ]
    }
   ],
   "source": [
    "def get_frame_data(cap):\n",
    "    print(cap.get(cv.CAP_PROP_FRAME_WIDTH))\n",
    "    print(cap.get(cv.CAP_PROP_FRAME_HEIGHT))\n",
    "    print(cap.get(cv.CAP_PROP_FPS))"
   ]
  },
  {
   "cell_type": "code",
   "execution_count": null,
   "metadata": {},
   "outputs": [],
   "source": [
    "cap = cv.VideoCapture(2)\n",
    "get_frame_data(cap)\n",
    "cap.release()"
   ]
  },
  {
   "attachments": {},
   "cell_type": "markdown",
   "metadata": {},
   "source": [
    "### Calibrate Camera"
   ]
  },
  {
   "cell_type": "code",
   "execution_count": 134,
   "metadata": {},
   "outputs": [
    {
     "name": "stdout",
     "output_type": "stream",
     "text": [
      "align frame and press 'q' when ready to take photo\n",
      "press 's' to save or 'q' to quit\n",
      "saved image to /home/sage/Pictures/lifecam_calibrate/0_calibrate.jpg\n",
      "align frame and press 'q' when ready to take photo\n",
      "press 's' to save or 'q' to quit\n",
      "saved image to /home/sage/Pictures/lifecam_calibrate/1_calibrate.jpg\n",
      "align frame and press 'q' when ready to take photo\n",
      "press 's' to save or 'q' to quit\n",
      "saved image to /home/sage/Pictures/lifecam_calibrate/2_calibrate.jpg\n",
      "align frame and press 'q' when ready to take photo\n",
      "press 's' to save or 'q' to quit\n",
      "saved image to /home/sage/Pictures/lifecam_calibrate/3_calibrate.jpg\n",
      "align frame and press 'q' when ready to take photo\n",
      "press 's' to save or 'q' to quit\n",
      "saved image to /home/sage/Pictures/lifecam_calibrate/4_calibrate.jpg\n"
     ]
    }
   ],
   "source": [
    "#take calibration image(s)\n",
    "index = 0\n",
    "numImages = 5\n",
    "dir = \"lifecam_calibrate\"\n",
    "\n",
    "while index<numImages:\n",
    "    print(\"align frame and press 'q' when ready to take photo\")\n",
    "    take_video()\n",
    "    take_photo(\"/home/sage/Pictures/{0}/{1}_calibrate\".format(dir,index))\n",
    "    index = index+1"
   ]
  },
  {
   "cell_type": "code",
   "execution_count": 135,
   "metadata": {},
   "outputs": [
    {
     "name": "stdout",
     "output_type": "stream",
     "text": [
      "['/home/sage/Pictures/lifecam_calibrate/1_calibrate.jpg', '/home/sage/Pictures/lifecam_calibrate/3_calibrate.jpg', '/home/sage/Pictures/lifecam_calibrate/4_calibrate.jpg', '/home/sage/Pictures/lifecam_calibrate/2_calibrate.jpg', '/home/sage/Pictures/lifecam_calibrate/0_calibrate.jpg']\n",
      "True\n",
      "True\n",
      "True\n",
      "True\n",
      "True\n"
     ]
    }
   ],
   "source": [
    "#this is for a 7x10 grid with 20mmx20mm squares, but can be parameterized\n",
    "#by altering grid_h and grid_w vars\n",
    "grid = [7,10]\n",
    "grid_h = grid[0]-1\n",
    "grid_w = grid[1]-1\n",
    "cv.namedWindow(\"output\", cv.WINDOW_NORMAL)\n",
    "resize = 0\n",
    "dir = \"lifecam_calibrate\" #\"pixel_calibrate\"\n",
    "\n",
    "# termination criteria\n",
    "criteria = (cv.TERM_CRITERIA_EPS + cv.TERM_CRITERIA_MAX_ITER, 30, 0.001)\n",
    "\n",
    "# prepare object points, like (0,0,0), (1,0,0), (2,0,0) ....,(6,5,0)\n",
    "objp = np.zeros((grid_h*grid_w,3), np.float32)\n",
    "objp[:,:2] = np.mgrid[0:grid_w,0:grid_h].T.reshape(-1,2)\n",
    "# Arrays to store object points and image points from all the images.\n",
    "objpoints = [] # 3d point in real world space\n",
    "imgpoints = [] # 2d points in image plane.\n",
    "images = glob.glob(\"/home/sage/Pictures/{0}/*calibrate.jpg\".format(dir))\n",
    "print(images)\n",
    "for fname in images:\n",
    "    img = cv.imread(fname)\n",
    "    if resize>0:\n",
    "        height, width = img.shape[:2]\n",
    "        img = cv.resize(img,(int(width/3),int(height/3)))\n",
    "    gray = cv.cvtColor(img, cv.COLOR_RGB2GRAY)\n",
    "    # Find the chess board corners\n",
    "    ret, corners = cv.findChessboardCorners(gray, (grid_w,grid_h), None)\n",
    "    # If found, add object points, image points (after refining them)\n",
    "    print(ret)\n",
    "    if ret == True:\n",
    "        objpoints.append(objp)\n",
    "        corners2 = cv.cornerSubPix(gray,corners, (11,11), (-1,-1), criteria)\n",
    "        imgpoints.append(corners2)\n",
    "        # Draw and display the corners\n",
    "        cv.drawChessboardCorners(img, (grid_w,grid_h), corners2, ret)\n",
    "        cv.imshow('img', img)\n",
    "        cv.waitKey(1000)\n",
    "cv.destroyAllWindows()"
   ]
  },
  {
   "cell_type": "code",
   "execution_count": 136,
   "metadata": {},
   "outputs": [],
   "source": [
    "#create calibration parameters:\n",
    "ret, mtx, dist, rvecs, tvecs = cv.calibrateCamera(objpoints, imgpoints, gray.shape[::-1], None, None)"
   ]
  },
  {
   "cell_type": "code",
   "execution_count": 138,
   "metadata": {},
   "outputs": [
    {
     "data": {
      "text/plain": [
       "True"
      ]
     },
     "execution_count": 138,
     "metadata": {},
     "output_type": "execute_result"
    }
   ],
   "source": [
    "#import image\n",
    "img = cv.imread('/home/sage/Pictures/{0}/test.jpg'.format(dir))\n",
    "if resize>0:\n",
    "        height, width = img.shape[:2]\n",
    "        img = cv.resize(img,(int(width/3),int(height/3)))\n",
    "h, w = img.shape[:2]\n",
    "newcameramtx, roi = cv.getOptimalNewCameraMatrix(mtx, dist, (w,h), 1, (w,h))\n",
    "np.savetxt(\"lifecam_mtx.csv\",mtx,delimiter = \",\")\n",
    "np.savetxt(\"lifecam_dist.csv\",dist,delimiter = \",\")\n",
    "\n",
    "# undistort\n",
    "undst = cv.undistort(img, mtx, dist, None, newcameramtx)\n",
    "# plt.imshow(undst)\n",
    "# crop the image\n",
    "x, y, w, h = roi\n",
    "undst = undst[y:y+h, x:x+w]\n",
    "# plt.imshow(undst)\n",
    "cv.imwrite('/home/sage/Pictures/{0}/calibresult.jpg'.format(dir), undst)\n",
    "crop_orig = img[y:y+h, x:x+w]\n",
    "cv.imwrite('/home/sage/Pictures/{0}/test_cropped.jpg'.format(dir),crop_orig)"
   ]
  },
  {
   "cell_type": "code",
   "execution_count": 192,
   "metadata": {},
   "outputs": [],
   "source": [
    "#how to save camera intrinsics to file:\n",
    "def save_intrinsics(mtx, dist, fileprefix = \"\"):\n",
    "    np.savetxt(\"{0}mtx.csv\".format(fileprefix),mtx,delimiter = \",\")\n",
    "    np.savetxt('{0}dist_shape.csv'.format(fileprefix),np.array(dist.shape),delimiter= \",\",fmt='%d')\n",
    "    np.savetxt(\"{0}dist.csv\".format(fileprefix),dist.reshape(-1, dist.shape[-1]),delimiter = \",\")\n",
    "\n",
    "save_intrinsics(mtx,dist,fileprefix = \"lifecam_\")\n"
   ]
  },
  {
   "cell_type": "code",
   "execution_count": 193,
   "metadata": {},
   "outputs": [],
   "source": [
    "#how to load camera intrinsics from a file:\n",
    "def load_intrinsics(mtx_file,dist_file,shape_file):\n",
    "    mtx =  np.genfromtxt(\"lifecam_mtx.csv\",delimiter = \",\")\n",
    "    dist_shape = np.genfromtxt(\"lifecam_dist_shape.csv\",delimiter = \",\",dtype=int)\n",
    "    dist = np.genfromtxt(\"lifecam_dist.csv\",delimiter = \",\").reshape(dist_shape)\n",
    "    return mtx, dist\n",
    "\n",
    "mtx, dist = load_intrinsics(\"lifecam_mtx.csv\",\"lifecam_dist.csv\",\"lifecam_dist_shape.csv\")"
   ]
  }
 ],
 "metadata": {
  "kernelspec": {
   "display_name": "ROS544proj",
   "language": "python",
   "name": "python3"
  },
  "language_info": {
   "codemirror_mode": {
    "name": "ipython",
    "version": 3
   },
   "file_extension": ".py",
   "mimetype": "text/x-python",
   "name": "python",
   "nbconvert_exporter": "python",
   "pygments_lexer": "ipython3",
   "version": "3.8.10"
  },
  "orig_nbformat": 4
 },
 "nbformat": 4,
 "nbformat_minor": 2
}
